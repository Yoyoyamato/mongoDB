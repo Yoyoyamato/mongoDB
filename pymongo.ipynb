{
 "cells": [
  {
   "cell_type": "code",
   "execution_count": 15,
   "metadata": {},
   "outputs": [],
   "source": [
    "import requests\n",
    "from pymongo import MongoClient"
   ]
  },
  {
   "cell_type": "code",
   "execution_count": 16,
   "metadata": {},
   "outputs": [],
   "source": [
    "# Client connects to \"localhost\" by default\n",
    "client = MongoClient(\"mongodb://localhost:27017/\")\n",
    "# Create local \"nobel\" database on the fly\n",
    "db = client[\"nobel\"]"
   ]
  },
  {
   "cell_type": "code",
   "execution_count": 17,
   "metadata": {},
   "outputs": [],
   "source": [
    "for collection_name in [\"prizes\"]:\n",
    "    # collect the data from the API\n",
    "    response = requests.get(\"http://api.nobelprize.org/v1/{}.json\".format(collection_name[:-1]))\n",
    "    # convert the data to json\n",
    "    documents = response.json()[collection_name]\n",
    "    # Create collections on the fly\n",
    "    db[collection_name].insert_many(documents)"
   ]
  },
  {
   "cell_type": "code",
   "execution_count": null,
   "metadata": {},
   "outputs": [],
   "source": [
    "prizes_collection = db[\"prizes\"]"
   ]
  },
  {
   "cell_type": "code",
   "execution_count": null,
   "metadata": {},
   "outputs": [],
   "source": [
    "# Count documents in a collection\n",
    "n_prizes = db.prizes.count_documents(filter)\n",
    "n_laureates = db.laureates.count_documents(filter)"
   ]
  },
  {
   "cell_type": "code",
   "execution_count": null,
   "metadata": {},
   "outputs": [],
   "source": [
    "# Find one document to inspect\n",
    "doc = db.prizes.find_one()"
   ]
  },
  {
   "cell_type": "code",
   "execution_count": null,
   "metadata": {},
   "outputs": [],
   "source": [
    "# Count documents by providing afilter document to match\n",
    "filter_doc = {\n",
    "    'born': '1845-03-27',\n",
    "    'diedCountry': 'Germany',\n",
    "    'gender': 'male',\n",
    "    'surname': 'Röntgen'\n",
    "}\n",
    "db.laureates.count_documents(filter_doc)"
   ]
  },
  {
   "cell_type": "code",
   "execution_count": null,
   "metadata": {},
   "outputs": [],
   "source": [
    "## Simple filters\n",
    "db.laureates.count_documents({'gender': 'female'})"
   ]
  },
  {
   "cell_type": "code",
   "execution_count": null,
   "metadata": {},
   "outputs": [],
   "source": [
    "db.laureates.count_documents({'diedCountry': 'France'})"
   ]
  },
  {
   "cell_type": "code",
   "execution_count": null,
   "metadata": {},
   "outputs": [],
   "source": [
    "db.laureates.count_documents({'bornCity': 'Warsaw'})"
   ]
  },
  {
   "cell_type": "code",
   "execution_count": null,
   "metadata": {},
   "outputs": [],
   "source": [
    "filter_doc = {'gender': 'female',\n",
    "'diedCountry': 'France',\n",
    "'bornCity': 'Warsaw'}\n",
    "db.laureates.count_documents(filter_doc)\n",
    "## db.laureates.find_one(filter_doc)"
   ]
  },
  {
   "cell_type": "markdown",
   "metadata": {},
   "source": [
    "### Query operators"
   ]
  },
  {
   "cell_type": "code",
   "execution_count": null,
   "metadata": {},
   "outputs": [],
   "source": [
    "# Value in a range $in: <list>\n",
    "db.laureates.count_documents({\n",
    "    'diedCountry': {\n",
    "    '$in': ['France', 'USA']\n",
    "    }\n",
    "})"
   ]
  },
  {
   "cell_type": "code",
   "execution_count": null,
   "metadata": {},
   "outputs": [],
   "source": [
    "# Not equal $ne : <value>\n",
    "db.laureates.count_documents({\n",
    "    'diedCountry': {\n",
    "    '$ne': 'France'\n",
    "    }\n",
    "})\n",
    "\n",
    "## $ne return null values as well!"
   ]
  },
  {
   "cell_type": "code",
   "execution_count": null,
   "metadata": {},
   "outputs": [],
   "source": [
    "# Comparison: > : $gt , ≥ : $gte | < : $lt , ≤ : $lte\n",
    "db.laureates.count_documents({\n",
    "    'diedCountry': {\n",
    "    '$gt': 'Belgium',\n",
    "    '$lte': 'USA'\n",
    "    }\n",
    "})"
   ]
  },
  {
   "cell_type": "code",
   "execution_count": null,
   "metadata": {},
   "outputs": [],
   "source": [
    "db.laureates.find_one({\n",
    "\"firstname\": \"Walter\",\n",
    "\"surname\": \"Kohn\"})"
   ]
  },
  {
   "cell_type": "code",
   "execution_count": null,
   "metadata": {},
   "outputs": [],
   "source": [
    "a = db.laureates.count_documents({\n",
    "\"prizes.affiliations.name\": (\n",
    "\"University of California\")})\n",
    "b = db.laureates.count_documents({\n",
    "\"prizes.affiliations.city\": (\n",
    "\"Berkeley, CA\")})\n",
    "print(f'Number of prizes in University of California is {a}. Number of prizes from Berkeley is {b}.')"
   ]
  },
  {
   "cell_type": "code",
   "execution_count": null,
   "metadata": {},
   "outputs": [],
   "source": [
    "# $exists is to determine if a value exists in that field\n",
    "db.laureates.count_documents({\"bornCountry\": {\"$exists\": False}})"
   ]
  },
  {
   "cell_type": "code",
   "execution_count": null,
   "metadata": {},
   "outputs": [],
   "source": [
    "# at least 2 or more prizes won\n",
    "db.laureates.count_documents({\"prizes.1\": {\"$exists\": True}})"
   ]
  },
  {
   "cell_type": "code",
   "execution_count": null,
   "metadata": {},
   "outputs": [],
   "source": [
    "# same as unique in python\n",
    "db.laureates.distinct(\"gender\")"
   ]
  },
  {
   "cell_type": "code",
   "execution_count": null,
   "metadata": {},
   "outputs": [],
   "source": [
    "db.laureates.distinct(\"prizes.category\")"
   ]
  },
  {
   "cell_type": "code",
   "execution_count": null,
   "metadata": {},
   "outputs": [],
   "source": [
    "# getting unique prize category with prize won with 4 people\n",
    "db.laureates.distinct(\"prizes.category\", {\"prizes.share\": '4'})"
   ]
  },
  {
   "cell_type": "code",
   "execution_count": null,
   "metadata": {},
   "outputs": [],
   "source": [
    "# Prize categories with multi-winners\n",
    "db.laureates.count_documents({\"prizes.1\": {\"$exists\": True}})\n",
    "\n",
    "#lisitng that categories\n",
    "db.laureates.distinct(\"prizes.category\", {\"prizes.1\": {\"$exists\": True}})"
   ]
  },
  {
   "cell_type": "code",
   "execution_count": null,
   "metadata": {},
   "outputs": [],
   "source": [
    "# $elemMatch\n",
    "db.laureates.count_documents({\"prizes\": {\"$elemMatch\":{\"category\": \"physics\", \"share\": \"1\"}}})"
   ]
  },
  {
   "cell_type": "code",
   "execution_count": null,
   "metadata": {},
   "outputs": [],
   "source": [
    "# Finding a substring with $regex\n",
    "db.laureates.distinct(\"bornCountry\",\n",
    "{\"bornCountry\": {\"$regex\": \"Poland\"}})\n",
    "\n",
    "# Beginning and ending (and escaping)\n",
    "from bson.regex import Regex\n",
    "db.laureates.distinct(\"bornCountry\",{\"bornCountry\": Regex(\"^Poland\")})\n",
    "\n",
    "db.laureates.distinct(\n",
    "\"bornCountry\",{\"bornCountry\": Regex(\"^Poland \\(now\")})\n",
    "\n",
    "db.laureates.distinct(\n",
    "\"bornCountry\",{\"bornCountry\": Regex(\"now Poland\\)$\")})"
   ]
  },
  {
   "cell_type": "code",
   "execution_count": null,
   "metadata": {},
   "outputs": [],
   "source": []
  },
  {
   "cell_type": "code",
   "execution_count": null,
   "metadata": {},
   "outputs": [],
   "source": []
  }
 ],
 "metadata": {
  "interpreter": {
   "hash": "dbefb8df6b02da65c90af1358b8218a3900f4b4d7c2164e0deb6e51ab9f6f5b7"
  },
  "kernelspec": {
   "display_name": "Python 3.7.11 64-bit ('base': conda)",
   "language": "python",
   "name": "python3"
  },
  "language_info": {
   "codemirror_mode": {
    "name": "ipython",
    "version": 3
   },
   "file_extension": ".py",
   "mimetype": "text/x-python",
   "name": "python",
   "nbconvert_exporter": "python",
   "pygments_lexer": "ipython3",
   "version": "3.7.11"
  },
  "orig_nbformat": 4
 },
 "nbformat": 4,
 "nbformat_minor": 2
}
